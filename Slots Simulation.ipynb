{
 "cells": [
  {
   "cell_type": "code",
   "execution_count": 1,
   "id": "bb6b29fd-46e9-4702-997e-1b7ba573722c",
   "metadata": {},
   "outputs": [],
   "source": [
    "import numpy as np\n",
    "import pandas as pd"
   ]
  },
  {
   "cell_type": "markdown",
   "id": "d37cc46e-63f0-421c-b120-97728b21035c",
   "metadata": {},
   "source": [
    "The following is an attempt to simulate the financial position of a hypothetical casino filled with hypothetical slot machines. The goal of this analysis is to produce a set of probabilities that will give the casino an edge, and see how tweaking a few variables of the simulation can affect the casino's profit margin, as well as the amount of money players win/lose. \n",
    "\n",
    "In the following code, I define the possible amounts that can be won from each bet in a machine. Next, I define a \"win rate\" or as I like to think of it, how much of each dollar played should be returned to the player. Lastly, I define a starting amount of money for each player, the number of times each player bets, the cost of each bet, and the number of trials for each simulation.  \n",
    "\n",
    "Note each player is starting with \\\\$2,500, there are 1,000 players, and each player is going to bet 1,000 times. This means each trial will test 1,000,000 bets and $2,500,000 will be paid in for each trial. This is important to keep in mind as you review the results."
   ]
  },
  {
   "cell_type": "code",
   "execution_count": 2,
   "id": "7faccc45-64d4-4739-8216-2c4ccf6100a5",
   "metadata": {},
   "outputs": [],
   "source": [
    "winAmounts = np.array([10000,5000,1000,500,100,50,10,1])\n",
    "\n",
    "winRate = 0.9\n",
    "startingAmount = 2500.0\n",
    "bets = 1000\n",
    "betCost = 1\n",
    "trials = 1000"
   ]
  },
  {
   "cell_type": "markdown",
   "id": "cfba8004-68d3-4fbc-ae5f-b1596ee18c75",
   "metadata": {},
   "source": [
    "Next, I define the probability of each win as the reciprocal of the value of each win divided by the win rate. As you'll see in a moment, that turns out to be a terrible probability function."
   ]
  },
  {
   "cell_type": "code",
   "execution_count": 3,
   "id": "64e4e1e0-f413-4b2e-83ab-3b0c8c1faf46",
   "metadata": {},
   "outputs": [],
   "source": [
    "def probFunction(x):\n",
    "    return (1/(x/winRate))\n",
    "\n",
    "f = np.vectorize(probFunction)"
   ]
  },
  {
   "cell_type": "code",
   "execution_count": 4,
   "id": "0c798e21-7e16-49d3-b58a-a2054728450c",
   "metadata": {},
   "outputs": [],
   "source": [
    "winProbs = f(winAmounts)"
   ]
  },
  {
   "cell_type": "markdown",
   "id": "fab5a4a3-a65b-44b9-9990-93e4be55abaa",
   "metadata": {},
   "source": [
    "Summing up the probabilities shows they're currently above 1. Due to the way I have the following functions setup, this won't break the simulation, but it will prevent the Casino from being profitable. It also doesn't make a lot of sense in the context of probability but that's ok for now."
   ]
  },
  {
   "cell_type": "code",
   "execution_count": 5,
   "id": "886bf650-15cd-42a0-908c-cdef830253a2",
   "metadata": {},
   "outputs": [
    {
     "name": "stdout",
     "output_type": "stream",
     "text": [
      "1.0199699999999998\n"
     ]
    }
   ],
   "source": [
    "print(np.sum(winProbs))"
   ]
  },
  {
   "cell_type": "code",
   "execution_count": 6,
   "id": "61c4c7a8-dc78-4011-a694-00ebe6abeeb8",
   "metadata": {},
   "outputs": [],
   "source": [
    "import random"
   ]
  },
  {
   "cell_type": "markdown",
   "id": "7be00c7e-ca5b-4950-bbc4-648084883edc",
   "metadata": {},
   "source": [
    "The first function I define is the \"bet function\". This will generate a random number between 0 and 1, then see if the generated number is greater than a running total of each probability. This essentially segments the number line between 0 and 1 into different outcomes and picks a random point on the line. Any remaining space not defined by our probabilites will return 0, a loss for the player. As you saw previously, my probabilities currently have a sum greater than 1. This means the player will never really lose, and the casino is probably not going to stay in business."
   ]
  },
  {
   "cell_type": "code",
   "execution_count": 7,
   "id": "1d5b2224-a238-4d85-b87d-c1c155ca43ea",
   "metadata": {},
   "outputs": [],
   "source": [
    "def betFunction():\n",
    "    n = random.random()\n",
    "    index = 0\n",
    "    \n",
    "    runningTotal = 0\n",
    "    for probability in winProbs:\n",
    "        runningTotal += probability\n",
    "        if n > runningTotal:\n",
    "            index += 1\n",
    "        elif n < runningTotal:\n",
    "            return winAmounts[index]\n",
    "    \n",
    "    return 0"
   ]
  },
  {
   "cell_type": "markdown",
   "id": "252e0eb8-2dc8-43b2-ab4e-effbd92da56e",
   "metadata": {},
   "source": [
    "The next function, \"gamble\" defines a gambling session. The player's money balance is set to the starting amount of money defined above. Each time a bet is entered, it costs the player money. A return is then generated and multiplied by the bet amount. Results of tweaking this variable are discussed further in the paper.\n",
    "\n",
    "The final balance of the player's account is returned after all their bets. If they run out of money, the function returns 0."
   ]
  },
  {
   "cell_type": "code",
   "execution_count": 8,
   "id": "ad14dd5a-3e37-498f-9af1-f2855bc99cd6",
   "metadata": {},
   "outputs": [],
   "source": [
    "def gamble():\n",
    "    money = startingAmount\n",
    "    for i in range(bets):\n",
    "        money -= betCost\n",
    "        money += betFunction() * betCost\n",
    "        if money <= 0:\n",
    "            return 0\n",
    "    return money"
   ]
  },
  {
   "cell_type": "markdown",
   "id": "3081dafc-bdb2-487b-aff6-5a33b50b19db",
   "metadata": {},
   "source": [
    "Next, I define a function to setup multiple gambling trials and let each one go to town. The final balance of each player's account is added to an array and returned."
   ]
  },
  {
   "cell_type": "code",
   "execution_count": 9,
   "id": "9e664b0c-703b-4fb6-9ebc-179d1a41cfa2",
   "metadata": {},
   "outputs": [],
   "source": [
    "def runTrials(numTrials):\n",
    "    trial = []\n",
    "    for i in range(numTrials):\n",
    "        trial.append(gamble())\n",
    "    return np.array(trial)"
   ]
  },
  {
   "cell_type": "markdown",
   "id": "ba5a4767-7e41-46da-ae5e-e918db405e28",
   "metadata": {},
   "source": [
    "Finally, I define a function to output the casino profit metrics in a clean manner."
   ]
  },
  {
   "cell_type": "code",
   "execution_count": 10,
   "id": "1f83056f-1ac7-45b1-8a54-d66238ac7567",
   "metadata": {},
   "outputs": [],
   "source": [
    "def countProfit(payOut):\n",
    "    payIn = float(startingAmount * trials)\n",
    "    payOut = float(payOut)\n",
    "    profit = float(payIn - payOut)\n",
    "    profitPercent = float(profit / payIn) * 100\n",
    "    \n",
    "    print('Total payin: ' + str(round(payIn,2)))\n",
    "    print('Total payout: ' + str(round(payOut,2)))\n",
    "    print('Profit: ' + str(round(profit,2)))\n",
    "    print('Profit margin: ' + str(round(profitPercent,2)) + '%')"
   ]
  },
  {
   "cell_type": "markdown",
   "id": "0328de2a-8974-4c20-afd8-7fa610b8f038",
   "metadata": {},
   "source": [
    "The first trial is run with descriptive statistics. An explanation of what each number means follows:   \n",
    "  <b>Count: </b>The number of players in the trial  \n",
    "<b>Mean: </b>The average amount of money a player left with   \n",
    "<b>Std: </b>The standard deviation of player winnings  \n",
    "<b>Min: </b>The lowest amount of money someone left with  \n",
    "<b>25%: </b>25% of players left with less than this amount of money  \n",
    "<b>50%: </b>50% of players left with less than this amount of money  \n",
    "<b>75%: </b>75% of players left with less than this amount of money  \n",
    "<b>Max: </b>The highest amount of money someone left with"
   ]
  },
  {
   "cell_type": "code",
   "execution_count": 11,
   "id": "9350ed37-e776-4cf8-b32e-65ecae9881d4",
   "metadata": {},
   "outputs": [
    {
     "data": {
      "text/html": [
       "<div>\n",
       "<style scoped>\n",
       "    .dataframe tbody tr th:only-of-type {\n",
       "        vertical-align: middle;\n",
       "    }\n",
       "\n",
       "    .dataframe tbody tr th {\n",
       "        vertical-align: top;\n",
       "    }\n",
       "\n",
       "    .dataframe thead th {\n",
       "        text-align: right;\n",
       "    }\n",
       "</style>\n",
       "<table border=\"1\" class=\"dataframe\">\n",
       "  <thead>\n",
       "    <tr style=\"text-align: right;\">\n",
       "      <th></th>\n",
       "      <th>0</th>\n",
       "    </tr>\n",
       "  </thead>\n",
       "  <tbody>\n",
       "    <tr>\n",
       "      <th>count</th>\n",
       "      <td>1000.000000</td>\n",
       "    </tr>\n",
       "    <tr>\n",
       "      <th>mean</th>\n",
       "      <td>8559.435000</td>\n",
       "    </tr>\n",
       "    <tr>\n",
       "      <th>std</th>\n",
       "      <td>3805.871811</td>\n",
       "    </tr>\n",
       "    <tr>\n",
       "      <th>min</th>\n",
       "      <td>3940.000000</td>\n",
       "    </tr>\n",
       "    <tr>\n",
       "      <th>25%</th>\n",
       "      <td>6220.750000</td>\n",
       "    </tr>\n",
       "    <tr>\n",
       "      <th>50%</th>\n",
       "      <td>7231.000000</td>\n",
       "    </tr>\n",
       "    <tr>\n",
       "      <th>75%</th>\n",
       "      <td>9272.250000</td>\n",
       "    </tr>\n",
       "    <tr>\n",
       "      <th>max</th>\n",
       "      <td>32343.000000</td>\n",
       "    </tr>\n",
       "  </tbody>\n",
       "</table>\n",
       "</div>"
      ],
      "text/plain": [
       "                  0\n",
       "count   1000.000000\n",
       "mean    8559.435000\n",
       "std     3805.871811\n",
       "min     3940.000000\n",
       "25%     6220.750000\n",
       "50%     7231.000000\n",
       "75%     9272.250000\n",
       "max    32343.000000"
      ]
     },
     "execution_count": 11,
     "metadata": {},
     "output_type": "execute_result"
    }
   ],
   "source": [
    "trial1 = pd.DataFrame(runTrials(trials))\n",
    "trial1.describe()"
   ]
  },
  {
   "cell_type": "markdown",
   "id": "7be99296-7f86-4854-a91f-fd4fc68545ac",
   "metadata": {},
   "source": [
    "Now I'll tally up the casino's position. The following information shows the total \"payin\", or the total amount of money all players started with; followed by the total \"payout\", or what the casino paid in winnings. These numbers are subtracted to produce the casino's \"profit\" and profit margin on the amount paid in.  \n",
    "\n",
    "Remember, there are 1,000 players and each player started with \\\\$2,500. This means $2,500,000 is being brought into the casino. In this case, \\\\$8,559,435 is leaving the casino, which leaves the casino with a net loss of \\\\$6,059,435."
   ]
  },
  {
   "cell_type": "code",
   "execution_count": 12,
   "id": "628497b0-af8c-4a72-8f5b-5b1a5a33263d",
   "metadata": {},
   "outputs": [
    {
     "name": "stdout",
     "output_type": "stream",
     "text": [
      "Total payin: 2500000.0\n",
      "Total payout: 8559435.0\n",
      "Profit: -6059435.0\n",
      "Profit margin: -242.38%\n"
     ]
    }
   ],
   "source": [
    "countProfit(trial1.sum())"
   ]
  },
  {
   "cell_type": "markdown",
   "id": "a7e9ac06-6b01-4532-acde-593da5bc31de",
   "metadata": {},
   "source": [
    "The probabilites were clearly horrible here. The average player walked out with quite a bit of extra cash, and the casino is hemorrhaging money. The whole \"win rate\" thing didn't work out how I imagined. Let's try some manually entered probabilites."
   ]
  },
  {
   "cell_type": "code",
   "execution_count": 13,
   "id": "ffab71bc-b748-46ad-8b4a-e44004677e86",
   "metadata": {},
   "outputs": [
    {
     "name": "stdout",
     "output_type": "stream",
     "text": [
      "0.25508\n"
     ]
    }
   ],
   "source": [
    "winProbs = np.array([1/100000,1/50000,1/10000,1/5000,1/1000,1/800,1/400,1/4])\n",
    "print(np.sum(winProbs))"
   ]
  },
  {
   "cell_type": "markdown",
   "id": "2c46c3c0-bb04-4ab7-b145-4a9c9d729236",
   "metadata": {},
   "source": [
    "The sum of these probabilies are now well below 1. This leaves plenty of room for the players to lose and give money back to the casino. Let's see how it performs:"
   ]
  },
  {
   "cell_type": "code",
   "execution_count": 14,
   "id": "c90a8924-3505-4367-8161-fddb8cf3a0ff",
   "metadata": {},
   "outputs": [
    {
     "data": {
      "text/html": [
       "<div>\n",
       "<style scoped>\n",
       "    .dataframe tbody tr th:only-of-type {\n",
       "        vertical-align: middle;\n",
       "    }\n",
       "\n",
       "    .dataframe tbody tr th {\n",
       "        vertical-align: top;\n",
       "    }\n",
       "\n",
       "    .dataframe thead th {\n",
       "        text-align: right;\n",
       "    }\n",
       "</style>\n",
       "<table border=\"1\" class=\"dataframe\">\n",
       "  <thead>\n",
       "    <tr style=\"text-align: right;\">\n",
       "      <th></th>\n",
       "      <th>0</th>\n",
       "    </tr>\n",
       "  </thead>\n",
       "  <tbody>\n",
       "    <tr>\n",
       "      <th>count</th>\n",
       "      <td>1000.00000</td>\n",
       "    </tr>\n",
       "    <tr>\n",
       "      <th>mean</th>\n",
       "      <td>2321.40000</td>\n",
       "    </tr>\n",
       "    <tr>\n",
       "      <th>std</th>\n",
       "      <td>1220.18474</td>\n",
       "    </tr>\n",
       "    <tr>\n",
       "      <th>min</th>\n",
       "      <td>1734.00000</td>\n",
       "    </tr>\n",
       "    <tr>\n",
       "      <th>25%</th>\n",
       "      <td>1871.75000</td>\n",
       "    </tr>\n",
       "    <tr>\n",
       "      <th>50%</th>\n",
       "      <td>1968.00000</td>\n",
       "    </tr>\n",
       "    <tr>\n",
       "      <th>75%</th>\n",
       "      <td>2313.25000</td>\n",
       "    </tr>\n",
       "    <tr>\n",
       "      <th>max</th>\n",
       "      <td>12311.00000</td>\n",
       "    </tr>\n",
       "  </tbody>\n",
       "</table>\n",
       "</div>"
      ],
      "text/plain": [
       "                 0\n",
       "count   1000.00000\n",
       "mean    2321.40000\n",
       "std     1220.18474\n",
       "min     1734.00000\n",
       "25%     1871.75000\n",
       "50%     1968.00000\n",
       "75%     2313.25000\n",
       "max    12311.00000"
      ]
     },
     "execution_count": 14,
     "metadata": {},
     "output_type": "execute_result"
    }
   ],
   "source": [
    "trial2 = pd.DataFrame(runTrials(trials))\n",
    "trial2.describe()"
   ]
  },
  {
   "cell_type": "code",
   "execution_count": 15,
   "id": "286319ab-aaea-4ca4-8605-5cf10388a665",
   "metadata": {},
   "outputs": [
    {
     "name": "stdout",
     "output_type": "stream",
     "text": [
      "Total payin: 2500000.0\n",
      "Total payout: 2321400.0\n",
      "Profit: 178600.0\n",
      "Profit margin: 7.14%\n"
     ]
    }
   ],
   "source": [
    "countProfit(trial2.sum())"
   ]
  },
  {
   "cell_type": "markdown",
   "id": "ad428685-3713-496d-b36f-5c3456a8b265",
   "metadata": {},
   "source": [
    "That's better! (for the casino...) Now I'll try salvaging the original probability function:"
   ]
  },
  {
   "cell_type": "code",
   "execution_count": 16,
   "id": "ad950ae6-3e09-455f-8778-9f52efc7bc1a",
   "metadata": {},
   "outputs": [
    {
     "name": "stdout",
     "output_type": "stream",
     "text": [
      "0.11332999999999997\n"
     ]
    }
   ],
   "source": [
    "def probFunction(x):\n",
    "    lossRate = 1-winRate\n",
    "    return (1/(x/lossRate))\n",
    "\n",
    "f = np.vectorize(probFunction)\n",
    "winProbs = f(winAmounts)\n",
    "print(np.sum(winProbs))"
   ]
  },
  {
   "cell_type": "code",
   "execution_count": 17,
   "id": "c0dd2dce-585a-43a9-b7bd-ea9b0637fbfb",
   "metadata": {},
   "outputs": [
    {
     "data": {
      "text/html": [
       "<div>\n",
       "<style scoped>\n",
       "    .dataframe tbody tr th:only-of-type {\n",
       "        vertical-align: middle;\n",
       "    }\n",
       "\n",
       "    .dataframe tbody tr th {\n",
       "        vertical-align: top;\n",
       "    }\n",
       "\n",
       "    .dataframe thead th {\n",
       "        text-align: right;\n",
       "    }\n",
       "</style>\n",
       "<table border=\"1\" class=\"dataframe\">\n",
       "  <thead>\n",
       "    <tr style=\"text-align: right;\">\n",
       "      <th></th>\n",
       "      <th>0</th>\n",
       "    </tr>\n",
       "  </thead>\n",
       "  <tbody>\n",
       "    <tr>\n",
       "      <th>count</th>\n",
       "      <td>1000.000000</td>\n",
       "    </tr>\n",
       "    <tr>\n",
       "      <th>mean</th>\n",
       "      <td>2255.544000</td>\n",
       "    </tr>\n",
       "    <tr>\n",
       "      <th>std</th>\n",
       "      <td>1179.126809</td>\n",
       "    </tr>\n",
       "    <tr>\n",
       "      <th>min</th>\n",
       "      <td>1626.000000</td>\n",
       "    </tr>\n",
       "    <tr>\n",
       "      <th>25%</th>\n",
       "      <td>1835.750000</td>\n",
       "    </tr>\n",
       "    <tr>\n",
       "      <th>50%</th>\n",
       "      <td>1954.500000</td>\n",
       "    </tr>\n",
       "    <tr>\n",
       "      <th>75%</th>\n",
       "      <td>2270.500000</td>\n",
       "    </tr>\n",
       "    <tr>\n",
       "      <th>max</th>\n",
       "      <td>12910.000000</td>\n",
       "    </tr>\n",
       "  </tbody>\n",
       "</table>\n",
       "</div>"
      ],
      "text/plain": [
       "                  0\n",
       "count   1000.000000\n",
       "mean    2255.544000\n",
       "std     1179.126809\n",
       "min     1626.000000\n",
       "25%     1835.750000\n",
       "50%     1954.500000\n",
       "75%     2270.500000\n",
       "max    12910.000000"
      ]
     },
     "execution_count": 17,
     "metadata": {},
     "output_type": "execute_result"
    }
   ],
   "source": [
    "trial3 = pd.DataFrame(runTrials(trials))\n",
    "trial3.describe()"
   ]
  },
  {
   "cell_type": "code",
   "execution_count": 18,
   "id": "c70aa2f9-7fdd-4599-b282-a792eacd926d",
   "metadata": {},
   "outputs": [
    {
     "name": "stdout",
     "output_type": "stream",
     "text": [
      "Total payin: 2500000.0\n",
      "Total payout: 2255544.0\n",
      "Profit: 244456.0\n",
      "Profit margin: 9.78%\n"
     ]
    }
   ],
   "source": [
    "countProfit(trial3.sum())"
   ]
  },
  {
   "cell_type": "markdown",
   "id": "d6f69ef5-c9bc-4448-ae7c-deebee25fc2d",
   "metadata": {},
   "source": [
    "A little bit better than before. Now I'll try some manual adjustment of the probability function instead of using the \"win rate\"."
   ]
  },
  {
   "cell_type": "code",
   "execution_count": 19,
   "id": "fe21a9d2-bf3d-4be4-b0cc-5e69fdc0d4fb",
   "metadata": {},
   "outputs": [
    {
     "data": {
      "text/html": [
       "<div>\n",
       "<style scoped>\n",
       "    .dataframe tbody tr th:only-of-type {\n",
       "        vertical-align: middle;\n",
       "    }\n",
       "\n",
       "    .dataframe tbody tr th {\n",
       "        vertical-align: top;\n",
       "    }\n",
       "\n",
       "    .dataframe thead th {\n",
       "        text-align: right;\n",
       "    }\n",
       "</style>\n",
       "<table border=\"1\" class=\"dataframe\">\n",
       "  <thead>\n",
       "    <tr style=\"text-align: right;\">\n",
       "      <th></th>\n",
       "      <th>0</th>\n",
       "    </tr>\n",
       "  </thead>\n",
       "  <tbody>\n",
       "    <tr>\n",
       "      <th>count</th>\n",
       "      <td>1000.000000</td>\n",
       "    </tr>\n",
       "    <tr>\n",
       "      <th>mean</th>\n",
       "      <td>2127.364000</td>\n",
       "    </tr>\n",
       "    <tr>\n",
       "      <th>std</th>\n",
       "      <td>1137.653213</td>\n",
       "    </tr>\n",
       "    <tr>\n",
       "      <th>min</th>\n",
       "      <td>1601.000000</td>\n",
       "    </tr>\n",
       "    <tr>\n",
       "      <th>25%</th>\n",
       "      <td>1753.750000</td>\n",
       "    </tr>\n",
       "    <tr>\n",
       "      <th>50%</th>\n",
       "      <td>1840.500000</td>\n",
       "    </tr>\n",
       "    <tr>\n",
       "      <th>75%</th>\n",
       "      <td>2018.250000</td>\n",
       "    </tr>\n",
       "    <tr>\n",
       "      <th>max</th>\n",
       "      <td>12624.000000</td>\n",
       "    </tr>\n",
       "  </tbody>\n",
       "</table>\n",
       "</div>"
      ],
      "text/plain": [
       "                  0\n",
       "count   1000.000000\n",
       "mean    2127.364000\n",
       "std     1137.653213\n",
       "min     1601.000000\n",
       "25%     1753.750000\n",
       "50%     1840.500000\n",
       "75%     2018.250000\n",
       "max    12624.000000"
      ]
     },
     "execution_count": 19,
     "metadata": {},
     "output_type": "execute_result"
    }
   ],
   "source": [
    "def probFunction(x):\n",
    "    return (1/(x/0.08))\n",
    "\n",
    "f = np.vectorize(probFunction)\n",
    "winProbs = f(winAmounts)\n",
    "\n",
    "trial4 = pd.DataFrame(runTrials(trials))\n",
    "trial4.describe()"
   ]
  },
  {
   "cell_type": "code",
   "execution_count": 20,
   "id": "ce7832b7-a400-4a1c-af67-89008e50ad3c",
   "metadata": {},
   "outputs": [
    {
     "name": "stdout",
     "output_type": "stream",
     "text": [
      "Total payin: 2500000.0\n",
      "Total payout: 2127364.0\n",
      "Profit: 372636.0\n",
      "Profit margin: 14.91%\n"
     ]
    }
   ],
   "source": [
    "countProfit(trial4.sum())"
   ]
  },
  {
   "cell_type": "markdown",
   "id": "8328061a-cee9-42b4-a0c0-c4ed6437255e",
   "metadata": {},
   "source": [
    "Now that's pretty profitable! If you look closely though, you'll notice 75% of players lost at least $482. That's a pretty sore day. In the real world, I imagine these variables would be tweaked to change the mechanics of how people lose money to maintain certain levels of player retention. \n",
    "\n",
    "Let's try upping the bet a couple times and see what happens. I'm also going to switch back to the hard coded probabilities to make things easier to see what the odds are. First, we'll do another $1 bet for comparison. Pay attention to the casino profit margin."
   ]
  },
  {
   "cell_type": "code",
   "execution_count": 21,
   "id": "f33141ed-7c78-410e-bae6-4ae807144730",
   "metadata": {},
   "outputs": [
    {
     "data": {
      "text/html": [
       "<div>\n",
       "<style scoped>\n",
       "    .dataframe tbody tr th:only-of-type {\n",
       "        vertical-align: middle;\n",
       "    }\n",
       "\n",
       "    .dataframe tbody tr th {\n",
       "        vertical-align: top;\n",
       "    }\n",
       "\n",
       "    .dataframe thead th {\n",
       "        text-align: right;\n",
       "    }\n",
       "</style>\n",
       "<table border=\"1\" class=\"dataframe\">\n",
       "  <thead>\n",
       "    <tr style=\"text-align: right;\">\n",
       "      <th></th>\n",
       "      <th>0</th>\n",
       "    </tr>\n",
       "  </thead>\n",
       "  <tbody>\n",
       "    <tr>\n",
       "      <th>count</th>\n",
       "      <td>1000.000000</td>\n",
       "    </tr>\n",
       "    <tr>\n",
       "      <th>mean</th>\n",
       "      <td>2335.119000</td>\n",
       "    </tr>\n",
       "    <tr>\n",
       "      <th>std</th>\n",
       "      <td>1367.884761</td>\n",
       "    </tr>\n",
       "    <tr>\n",
       "      <th>min</th>\n",
       "      <td>1715.000000</td>\n",
       "    </tr>\n",
       "    <tr>\n",
       "      <th>25%</th>\n",
       "      <td>1872.000000</td>\n",
       "    </tr>\n",
       "    <tr>\n",
       "      <th>50%</th>\n",
       "      <td>1977.000000</td>\n",
       "    </tr>\n",
       "    <tr>\n",
       "      <th>75%</th>\n",
       "      <td>2310.750000</td>\n",
       "    </tr>\n",
       "    <tr>\n",
       "      <th>max</th>\n",
       "      <td>13200.000000</td>\n",
       "    </tr>\n",
       "  </tbody>\n",
       "</table>\n",
       "</div>"
      ],
      "text/plain": [
       "                  0\n",
       "count   1000.000000\n",
       "mean    2335.119000\n",
       "std     1367.884761\n",
       "min     1715.000000\n",
       "25%     1872.000000\n",
       "50%     1977.000000\n",
       "75%     2310.750000\n",
       "max    13200.000000"
      ]
     },
     "execution_count": 21,
     "metadata": {},
     "output_type": "execute_result"
    }
   ],
   "source": [
    "winProbs = np.array([1/100000,1/50000,1/10000,1/5000,1/1000,1/800,1/400,1/4])\n",
    "betCost = 1\n",
    "\n",
    "trial5 = pd.DataFrame(runTrials(trials))\n",
    "trial5.describe()"
   ]
  },
  {
   "cell_type": "code",
   "execution_count": 22,
   "id": "c8aec120-4ffe-4a0f-a279-1206254aaa78",
   "metadata": {},
   "outputs": [
    {
     "name": "stdout",
     "output_type": "stream",
     "text": [
      "Total payin: 2500000.0\n",
      "Total payout: 2335119.0\n",
      "Profit: 164881.0\n",
      "Profit margin: 6.6%\n"
     ]
    }
   ],
   "source": [
    "countProfit(trial5.sum())"
   ]
  },
  {
   "cell_type": "markdown",
   "id": "86dd8051-5122-4207-be96-2f0901316825",
   "metadata": {},
   "source": [
    "Now a $2 bet:"
   ]
  },
  {
   "cell_type": "code",
   "execution_count": 23,
   "id": "ec35700d-813a-449c-a62f-258d026eacc7",
   "metadata": {},
   "outputs": [
    {
     "data": {
      "text/html": [
       "<div>\n",
       "<style scoped>\n",
       "    .dataframe tbody tr th:only-of-type {\n",
       "        vertical-align: middle;\n",
       "    }\n",
       "\n",
       "    .dataframe tbody tr th {\n",
       "        vertical-align: top;\n",
       "    }\n",
       "\n",
       "    .dataframe thead th {\n",
       "        text-align: right;\n",
       "    }\n",
       "</style>\n",
       "<table border=\"1\" class=\"dataframe\">\n",
       "  <thead>\n",
       "    <tr style=\"text-align: right;\">\n",
       "      <th></th>\n",
       "      <th>0</th>\n",
       "    </tr>\n",
       "  </thead>\n",
       "  <tbody>\n",
       "    <tr>\n",
       "      <th>count</th>\n",
       "      <td>1000.000000</td>\n",
       "    </tr>\n",
       "    <tr>\n",
       "      <th>mean</th>\n",
       "      <td>2176.216000</td>\n",
       "    </tr>\n",
       "    <tr>\n",
       "      <th>std</th>\n",
       "      <td>2684.234133</td>\n",
       "    </tr>\n",
       "    <tr>\n",
       "      <th>min</th>\n",
       "      <td>964.000000</td>\n",
       "    </tr>\n",
       "    <tr>\n",
       "      <th>25%</th>\n",
       "      <td>1261.500000</td>\n",
       "    </tr>\n",
       "    <tr>\n",
       "      <th>50%</th>\n",
       "      <td>1473.000000</td>\n",
       "    </tr>\n",
       "    <tr>\n",
       "      <th>75%</th>\n",
       "      <td>2199.500000</td>\n",
       "    </tr>\n",
       "    <tr>\n",
       "      <th>max</th>\n",
       "      <td>23856.000000</td>\n",
       "    </tr>\n",
       "  </tbody>\n",
       "</table>\n",
       "</div>"
      ],
      "text/plain": [
       "                  0\n",
       "count   1000.000000\n",
       "mean    2176.216000\n",
       "std     2684.234133\n",
       "min      964.000000\n",
       "25%     1261.500000\n",
       "50%     1473.000000\n",
       "75%     2199.500000\n",
       "max    23856.000000"
      ]
     },
     "execution_count": 23,
     "metadata": {},
     "output_type": "execute_result"
    }
   ],
   "source": [
    "betCost = 2\n",
    "\n",
    "trial6 = pd.DataFrame(runTrials(trials))\n",
    "trial6.describe()"
   ]
  },
  {
   "cell_type": "code",
   "execution_count": 24,
   "id": "d6c51d0d-ac8d-4471-acac-fde09de19716",
   "metadata": {},
   "outputs": [
    {
     "name": "stdout",
     "output_type": "stream",
     "text": [
      "Total payin: 2500000.0\n",
      "Total payout: 2176216.0\n",
      "Profit: 323784.0\n",
      "Profit margin: 12.95%\n"
     ]
    }
   ],
   "source": [
    "countProfit(trial6.sum())"
   ]
  },
  {
   "cell_type": "markdown",
   "id": "75b348fe-9a27-429f-9b7b-c7c23cd77a27",
   "metadata": {},
   "source": [
    "Finally a $4 bet:"
   ]
  },
  {
   "cell_type": "code",
   "execution_count": 25,
   "id": "6919347c-1641-4306-9dfd-1e45f5eeb679",
   "metadata": {},
   "outputs": [
    {
     "data": {
      "text/html": [
       "<div>\n",
       "<style scoped>\n",
       "    .dataframe tbody tr th:only-of-type {\n",
       "        vertical-align: middle;\n",
       "    }\n",
       "\n",
       "    .dataframe tbody tr th {\n",
       "        vertical-align: top;\n",
       "    }\n",
       "\n",
       "    .dataframe thead th {\n",
       "        text-align: right;\n",
       "    }\n",
       "</style>\n",
       "<table border=\"1\" class=\"dataframe\">\n",
       "  <thead>\n",
       "    <tr style=\"text-align: right;\">\n",
       "      <th></th>\n",
       "      <th>0</th>\n",
       "    </tr>\n",
       "  </thead>\n",
       "  <tbody>\n",
       "    <tr>\n",
       "      <th>count</th>\n",
       "      <td>1000.000000</td>\n",
       "    </tr>\n",
       "    <tr>\n",
       "      <th>mean</th>\n",
       "      <td>1804.592000</td>\n",
       "    </tr>\n",
       "    <tr>\n",
       "      <th>std</th>\n",
       "      <td>4994.735384</td>\n",
       "    </tr>\n",
       "    <tr>\n",
       "      <th>min</th>\n",
       "      <td>0.000000</td>\n",
       "    </tr>\n",
       "    <tr>\n",
       "      <th>25%</th>\n",
       "      <td>0.000000</td>\n",
       "    </tr>\n",
       "    <tr>\n",
       "      <th>50%</th>\n",
       "      <td>410.000000</td>\n",
       "    </tr>\n",
       "    <tr>\n",
       "      <th>75%</th>\n",
       "      <td>1586.000000</td>\n",
       "    </tr>\n",
       "    <tr>\n",
       "      <th>max</th>\n",
       "      <td>43952.000000</td>\n",
       "    </tr>\n",
       "  </tbody>\n",
       "</table>\n",
       "</div>"
      ],
      "text/plain": [
       "                  0\n",
       "count   1000.000000\n",
       "mean    1804.592000\n",
       "std     4994.735384\n",
       "min        0.000000\n",
       "25%        0.000000\n",
       "50%      410.000000\n",
       "75%     1586.000000\n",
       "max    43952.000000"
      ]
     },
     "execution_count": 25,
     "metadata": {},
     "output_type": "execute_result"
    }
   ],
   "source": [
    "betCost = 4\n",
    "\n",
    "trial7 = pd.DataFrame(runTrials(trials))\n",
    "trial7.describe()"
   ]
  },
  {
   "cell_type": "code",
   "execution_count": 26,
   "id": "8aa90dd6-3ea3-46f5-8113-e9ad16411cea",
   "metadata": {},
   "outputs": [
    {
     "name": "stdout",
     "output_type": "stream",
     "text": [
      "Total payin: 2500000.0\n",
      "Total payout: 1804592.0\n",
      "Profit: 695408.0\n",
      "Profit margin: 27.82%\n"
     ]
    }
   ],
   "source": [
    "countProfit(trial7.sum())"
   ]
  },
  {
   "cell_type": "markdown",
   "id": "c4fba28e-759d-4d07-8335-99061644a39b",
   "metadata": {},
   "source": [
    "Upping the bet just magnifies the result. The biggest winners go home with more, but most people lose a lot more as well. At the \\\\$4 bet, the entire bottom quartile is wiped clean. 50% of players lost almost $2,000. The increased bet increases your \"risk/reward\" but doesn't change the probabilities at all. You're still expected to lose, but with a higher bet you're expected to lose more.\n",
    "\n",
    "Now I'll change the number of gambles and see if that changes anything. Each player will now bet 10 times instead of 1,000. I'm also going to change the bet back to $1."
   ]
  },
  {
   "cell_type": "code",
   "execution_count": 27,
   "id": "abced440-9367-4461-a5b2-73f251983bc6",
   "metadata": {},
   "outputs": [
    {
     "data": {
      "text/html": [
       "<div>\n",
       "<style scoped>\n",
       "    .dataframe tbody tr th:only-of-type {\n",
       "        vertical-align: middle;\n",
       "    }\n",
       "\n",
       "    .dataframe tbody tr th {\n",
       "        vertical-align: top;\n",
       "    }\n",
       "\n",
       "    .dataframe thead th {\n",
       "        text-align: right;\n",
       "    }\n",
       "</style>\n",
       "<table border=\"1\" class=\"dataframe\">\n",
       "  <thead>\n",
       "    <tr style=\"text-align: right;\">\n",
       "      <th></th>\n",
       "      <th>0</th>\n",
       "    </tr>\n",
       "  </thead>\n",
       "  <tbody>\n",
       "    <tr>\n",
       "      <th>count</th>\n",
       "      <td>1000.00000</td>\n",
       "    </tr>\n",
       "    <tr>\n",
       "      <th>mean</th>\n",
       "      <td>2506.87800</td>\n",
       "    </tr>\n",
       "    <tr>\n",
       "      <th>std</th>\n",
       "      <td>228.48442</td>\n",
       "    </tr>\n",
       "    <tr>\n",
       "      <th>min</th>\n",
       "      <td>2490.00000</td>\n",
       "    </tr>\n",
       "    <tr>\n",
       "      <th>25%</th>\n",
       "      <td>2492.00000</td>\n",
       "    </tr>\n",
       "    <tr>\n",
       "      <th>50%</th>\n",
       "      <td>2492.50000</td>\n",
       "    </tr>\n",
       "    <tr>\n",
       "      <th>75%</th>\n",
       "      <td>2494.00000</td>\n",
       "    </tr>\n",
       "    <tr>\n",
       "      <th>max</th>\n",
       "      <td>7492.00000</td>\n",
       "    </tr>\n",
       "  </tbody>\n",
       "</table>\n",
       "</div>"
      ],
      "text/plain": [
       "                0\n",
       "count  1000.00000\n",
       "mean   2506.87800\n",
       "std     228.48442\n",
       "min    2490.00000\n",
       "25%    2492.00000\n",
       "50%    2492.50000\n",
       "75%    2494.00000\n",
       "max    7492.00000"
      ]
     },
     "execution_count": 27,
     "metadata": {},
     "output_type": "execute_result"
    }
   ],
   "source": [
    "bets = 10\n",
    "betCost = 1\n",
    "\n",
    "trial8 = pd.DataFrame(runTrials(trials))\n",
    "trial8.describe()"
   ]
  },
  {
   "cell_type": "code",
   "execution_count": 28,
   "id": "abd62836-2d00-4269-a6b2-bb73c3063812",
   "metadata": {},
   "outputs": [
    {
     "name": "stdout",
     "output_type": "stream",
     "text": [
      "Total payin: 2500000.0\n",
      "Total payout: 2506878.0\n",
      "Profit: -6878.0\n",
      "Profit margin: -0.28%\n"
     ]
    }
   ],
   "source": [
    "countProfit(trial8.sum())"
   ]
  },
  {
   "cell_type": "markdown",
   "id": "8d988bed-9c5a-4d85-a320-0b80ec482d4e",
   "metadata": {},
   "source": [
    "Wow. Bringing down the bets low enough causes the casino to lose it's edge (with these probabilities at least). The biggest loser only lost $10. Let's see what happens when we up the bets to 5,000."
   ]
  },
  {
   "cell_type": "code",
   "execution_count": 29,
   "id": "e6e6d845-dbc9-47c1-bccc-837b4e7be636",
   "metadata": {},
   "outputs": [
    {
     "data": {
      "text/html": [
       "<div>\n",
       "<style scoped>\n",
       "    .dataframe tbody tr th:only-of-type {\n",
       "        vertical-align: middle;\n",
       "    }\n",
       "\n",
       "    .dataframe tbody tr th {\n",
       "        vertical-align: top;\n",
       "    }\n",
       "\n",
       "    .dataframe thead th {\n",
       "        text-align: right;\n",
       "    }\n",
       "</style>\n",
       "<table border=\"1\" class=\"dataframe\">\n",
       "  <thead>\n",
       "    <tr style=\"text-align: right;\">\n",
       "      <th></th>\n",
       "      <th>0</th>\n",
       "    </tr>\n",
       "  </thead>\n",
       "  <tbody>\n",
       "    <tr>\n",
       "      <th>count</th>\n",
       "      <td>1000.000000</td>\n",
       "    </tr>\n",
       "    <tr>\n",
       "      <th>mean</th>\n",
       "      <td>1822.816000</td>\n",
       "    </tr>\n",
       "    <tr>\n",
       "      <th>std</th>\n",
       "      <td>2965.548946</td>\n",
       "    </tr>\n",
       "    <tr>\n",
       "      <th>min</th>\n",
       "      <td>0.000000</td>\n",
       "    </tr>\n",
       "    <tr>\n",
       "      <th>25%</th>\n",
       "      <td>0.000000</td>\n",
       "    </tr>\n",
       "    <tr>\n",
       "      <th>50%</th>\n",
       "      <td>695.000000</td>\n",
       "    </tr>\n",
       "    <tr>\n",
       "      <th>75%</th>\n",
       "      <td>1785.250000</td>\n",
       "    </tr>\n",
       "    <tr>\n",
       "      <th>max</th>\n",
       "      <td>20042.000000</td>\n",
       "    </tr>\n",
       "  </tbody>\n",
       "</table>\n",
       "</div>"
      ],
      "text/plain": [
       "                  0\n",
       "count   1000.000000\n",
       "mean    1822.816000\n",
       "std     2965.548946\n",
       "min        0.000000\n",
       "25%        0.000000\n",
       "50%      695.000000\n",
       "75%     1785.250000\n",
       "max    20042.000000"
      ]
     },
     "execution_count": 29,
     "metadata": {},
     "output_type": "execute_result"
    }
   ],
   "source": [
    "bets = 5000\n",
    "\n",
    "trial9 = pd.DataFrame(runTrials(trials))\n",
    "trial9.describe()"
   ]
  },
  {
   "cell_type": "code",
   "execution_count": 30,
   "id": "7cd141a9-eeb2-4f18-be0b-84d6019f81c9",
   "metadata": {},
   "outputs": [
    {
     "name": "stdout",
     "output_type": "stream",
     "text": [
      "Total payin: 2500000.0\n",
      "Total payout: 1822816.0\n",
      "Profit: 677184.0\n",
      "Profit margin: 27.09%\n"
     ]
    }
   ],
   "source": [
    "countProfit(trial9.sum())"
   ]
  },
  {
   "cell_type": "markdown",
   "id": "751ce9b7-e065-4573-b18e-52c45b3f0e3e",
   "metadata": {},
   "source": [
    "Even with the more \"modest\" probabilities I defined earlier, players are getting wiped out, and the casino is raking it in. Half of all players lost almost $2,000. What have we learned so far? The casino rigs the numbers in their favor, betting more money only amplifies the casino's advantage, and placing more bets also amplifies the casino's advantage. \n",
    "\n",
    "This model clearly doesn't addres the entire psychological aspect of gambling. In the model, gamlbers stop at exactly 1000 bets, or when they run out of money, whichever comes first. In real life, people are influenced by all kinds of things and casinos employee thousands of people to adjust those influences. \n",
    "\n",
    "The point of this isn't to make fun of gamblers or tell you what to do. Vices are a part of life and the more you understand their risks, the better equipped you are to maintain a healthy relationship with them. Alcohol is rigged in favor of liver cirrhosis; cigarettes are rigged in favor of lung cancer; and of course, gambling is rigged in favor of the casino."
   ]
  },
  {
   "cell_type": "code",
   "execution_count": null,
   "id": "5a7c70f3-eb83-467b-b9fa-aa59cadcfe34",
   "metadata": {},
   "outputs": [],
   "source": []
  }
 ],
 "metadata": {
  "authors": [
   {
    "name": "Avery Lindsey"
   }
  ],
  "kernelspec": {
   "display_name": "Python 3 (ipykernel)",
   "language": "python",
   "name": "python3"
  },
  "language_info": {
   "codemirror_mode": {
    "name": "ipython",
    "version": 3
   },
   "file_extension": ".py",
   "mimetype": "text/x-python",
   "name": "python",
   "nbconvert_exporter": "python",
   "pygments_lexer": "ipython3",
   "version": "3.11.2"
  },
  "title": "Slots Simulation"
 },
 "nbformat": 4,
 "nbformat_minor": 5
}
